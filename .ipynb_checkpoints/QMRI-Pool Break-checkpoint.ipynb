{
 "cells": [
  {
   "cell_type": "markdown",
   "metadata": {},
   "source": [
    "# Final Project: Pool Break\n",
    "\n",
    "Annie Chu and Kyle McCracken\n",
    "\n",
    "ModSim Studio 1\n"
   ]
  },
  {
   "cell_type": "code",
   "execution_count": 5,
   "metadata": {},
   "outputs": [],
   "source": [
    "# Configure Jupyter so figures appear in the notebook\n",
    "%matplotlib inline\n",
    "\n",
    "# Configure Jupyter to display the assigned value after an assignment\n",
    "%config InteractiveShell.ast_node_interactivity='last_expr_or_assign'\n",
    "\n",
    "# import functions from the modsim.py module\n",
    "from modsim import *"
   ]
  },
  {
   "cell_type": "markdown",
   "metadata": {},
   "source": [
    "## QUESTION\n",
    "### What is the optimal speed and position of the cue ball for the best pool break?\n",
    "\n",
    "Within every pool game is an initial break between the cue ball and the racked pool balls. We seeked to find the best initial position and speed of the cue ball in order to get the most number of balls into pockets within the initial break. "
   ]
  },
  {
   "cell_type": "markdown",
   "metadata": {},
   "source": [
    "## METHODS "
   ]
  },
  {
   "cell_type": "markdown",
   "metadata": {},
   "source": [
    "### Initializing System\n",
    "\n",
    "When making our system, we assumed all the balls to be 2D discs and essentially ignored rotational motion. A typical pool table is 2.84 by 1.42 meters; for simplicity's sake, we assumed the table to be 2x1 meters. The mass and radius of the ball is included as well. In addition, we included both coefficients, kinetic and static, of friction between the balls and the cloth of the table.\n",
    "\n",
    "Our xy plane starts from the middle left of the pool table, meaning (0,-0.5) would be the the bottom left of the pool table and (0, 0.5) would be the top left. \n",
    "\n",
    "Also, in the initial racking of the pool balls, we assumed a small space of 0.5cm between all of them to limit multiple-object collisions. Essentially the balls are points with a radius. "
   ]
  },
  {
   "cell_type": "code",
   "execution_count": 14,
   "metadata": {},
   "outputs": [
    {
     "data": {
      "text/html": [
       "<div>\n",
       "<style scoped>\n",
       "    .dataframe tbody tr th:only-of-type {\n",
       "        vertical-align: middle;\n",
       "    }\n",
       "\n",
       "    .dataframe tbody tr th {\n",
       "        vertical-align: top;\n",
       "    }\n",
       "\n",
       "    .dataframe thead th {\n",
       "        text-align: right;\n",
       "    }\n",
       "</style>\n",
       "<table border=\"1\" class=\"dataframe\">\n",
       "  <thead>\n",
       "    <tr style=\"text-align: right;\">\n",
       "      <th></th>\n",
       "      <th>values</th>\n",
       "    </tr>\n",
       "  </thead>\n",
       "  <tbody>\n",
       "    <tr>\n",
       "      <th>init</th>\n",
       "      <td>cx       0.500000\n",
       "cy       0.000000\n",
       "cvx      1...</td>\n",
       "    </tr>\n",
       "    <tr>\n",
       "      <th>fs</th>\n",
       "      <td>0.0166698</td>\n",
       "    </tr>\n",
       "    <tr>\n",
       "      <th>fk</th>\n",
       "      <td>0.333396</td>\n",
       "    </tr>\n",
       "    <tr>\n",
       "      <th>m</th>\n",
       "      <td>0.1701</td>\n",
       "    </tr>\n",
       "    <tr>\n",
       "      <th>r</th>\n",
       "      <td>0.028575</td>\n",
       "    </tr>\n",
       "    <tr>\n",
       "      <th>balls</th>\n",
       "      <td>15</td>\n",
       "    </tr>\n",
       "    <tr>\n",
       "      <th>dist_step</th>\n",
       "      <td>0.5</td>\n",
       "    </tr>\n",
       "    <tr>\n",
       "      <th>t_0</th>\n",
       "      <td>0</td>\n",
       "    </tr>\n",
       "    <tr>\n",
       "      <th>t_end</th>\n",
       "      <td>7</td>\n",
       "    </tr>\n",
       "    <tr>\n",
       "      <th>minvel</th>\n",
       "      <td>0.01</td>\n",
       "    </tr>\n",
       "    <tr>\n",
       "      <th>h</th>\n",
       "      <td>1</td>\n",
       "    </tr>\n",
       "    <tr>\n",
       "      <th>w</th>\n",
       "      <td>2</td>\n",
       "    </tr>\n",
       "    <tr>\n",
       "      <th>t_cut</th>\n",
       "      <td>1</td>\n",
       "    </tr>\n",
       "  </tbody>\n",
       "</table>\n",
       "</div>"
      ],
      "text/plain": [
       "init         cx       0.500000\n",
       "cy       0.000000\n",
       "cvx      1...\n",
       "fs                                                   0.0166698\n",
       "fk                                                    0.333396\n",
       "m                                                       0.1701\n",
       "r                                                     0.028575\n",
       "balls                                                       15\n",
       "dist_step                                                  0.5\n",
       "t_0                                                          0\n",
       "t_end                                                        7\n",
       "minvel                                                    0.01\n",
       "h                                                            1\n",
       "w                                                            2\n",
       "t_cut                                                        1\n",
       "dtype: object"
      ]
     },
     "execution_count": 14,
     "metadata": {},
     "output_type": "execute_result"
    }
   ],
   "source": [
    "p0=1.5\n",
    "h=0.0581536058641\n",
    "rp=0.033575\n",
    "init = State(cx=0.5,cy=0,cvx=1,cvy=0,\n",
    "             b1x=1.5,b1y=0,b1vx=0,b1vy=0,\n",
    "             b2x=p0+h,b2y=rp,b2vx=0,b2vy=0,\n",
    "             b3x=p0+h,b3y=-rp,b3vx=0,b3vy=0,\n",
    "             b4x=p0+2*h,b4y=0,b4vx=0,b4vy=0,\n",
    "             b5x=p0+2*h,b5y=2*rp,b5vx=0,b5vy=0,\n",
    "             b6x=p0+2*h,b6y=-2*rp,b6vx=0,b6vy=0,\n",
    "             b7x=p0+3*h,b7y=rp,b7vx=0,b7vy=0,\n",
    "             b8x=p0+3*h,b8y=3*rp,b8vx=0,b8vy=0,\n",
    "             b9x=p0+3*h,b9y=-rp,b9vx=0,b9vy=0,\n",
    "             b10x=p0+3*h,b10y=-3*rp,b10vx=0,b10vy=0,\n",
    "             b11x=p0+4*h,b11y=0,b11vx=0,b11vy=0,\n",
    "             b12x=p0+4*h,b12y=2*rp,b12vx=0,b12vy=0,\n",
    "             b13x=p0+4*h,b13y=4*rp,b13vx=0,b13vy=0,\n",
    "             b14x=p0+4*h,b14y=-2*rp,b14vx=0,b14vy=0,\n",
    "             b15x=p0+4*h,b15y=-4*rp,b15vx=0,b15vy=0)\n",
    "state = init\n",
    "system = System(init = init, fs=0.0166698, \n",
    "                fk=0.333396, m=0.1701, \n",
    "                r=0.028575, balls = 15, \n",
    "                dist_step=0.5,  t_0=0, \n",
    "                t_end=7, minvel=.01, \n",
    "                h=1, w=2, t_cut=1)"
   ]
  },
  {
   "cell_type": "markdown",
   "metadata": {},
   "source": [
    "#### Calculating Force of Friction\n",
    "Used to adjust the velocities of the balls while running the simulation. We found the threshold velocity in switching from static to kinetic friction to be 0.5 m/s. "
   ]
  },
  {
   "cell_type": "code",
   "execution_count": 15,
   "metadata": {},
   "outputs": [],
   "source": [
    "def f_force(system, v_vector):\n",
    "    unpack(system)\n",
    "    if v_vector.mag > 0.5:\n",
    "        f_force_vector = v_vector.hat() * -fk\n",
    "        return f_force_vector\n",
    "    f_force_vector = v_vector.hat() * -fs\n",
    "    return f_force_vector"
   ]
  },
  {
   "cell_type": "markdown",
   "metadata": {},
   "source": [
    "#### Rewriting the dot function for distance into a generic function\n"
   ]
  },
  {
   "cell_type": "code",
   "execution_count": 16,
   "metadata": {},
   "outputs": [],
   "source": [
    "def dist(v1, v2):\n",
    "    dist = v1.dist(v2)\n",
    "    return dist"
   ]
  },
  {
   "cell_type": "markdown",
   "metadata": {},
   "source": [
    "#### Calculating New Velocities in 2-Object Elastic Collisions \n",
    "\n",
    "We used calculations for two-body completely elastic collisions, meaning we assume that although a ball may be touching 2 or more other balls \"simultaneously,\" it is actually not simultaneous and there's a small delay between those collisions. \n",
    "\n",
    "Referencing conservation of momentum and kinetic energy, we used an angle-free equation for the new velocities after collisions. "
   ]
  },
  {
   "cell_type": "code",
   "execution_count": 17,
   "metadata": {},
   "outputs": [],
   "source": [
    "def newv1(p1, p2, v1, v2):\n",
    "    v1diff = v1 - v2\n",
    "    x1diff = p1 - p2\n",
    "    v1prime = v1 - x1diff * v1diff.dot(x1diff) / (x1diff.mag**2)\n",
    "    return v1prime\n",
    "\n",
    "def newv2(p1, p2, v1, v2):\n",
    "    v2diff = v2 - v1\n",
    "    x2diff = p2 - p1\n",
    "    v2prime = v2 - x2diff * v2diff.dot(x2diff) / (x2diff.mag**2)\n",
    "    return v2prime"
   ]
  },
  {
   "cell_type": "markdown",
   "metadata": {},
   "source": [
    "### Update function"
   ]
  },
  {
   "cell_type": "code",
   "execution_count": 18,
   "metadata": {},
   "outputs": [],
   "source": [
    "def update_func(state, t, system):\n",
    "    unpack(system)\n",
    "    \n",
    "    #Initializing Pool Table Dimensions + Coordinate Plane \n",
    "    tlc = Vector(0,h/2)\n",
    "    blc = Vector(0,-h/2)\n",
    "    trc = Vector(w,h/2)\n",
    "    brc = Vector(w,-h/2)\n",
    "\n",
    "    #Initializing Balls, Arrays for Position + Velocity vectors\n",
    "    ids = linrange(0,balls,1,endpoint=True)\n",
    "    pos_vectors = []\n",
    "    vel_vectors = []\n",
    "    ps = []\n",
    "    vs = []\n",
    "    collisions = []\n",
    "    \n",
    "    #Adding position and velocity vectors from state to respective arrays, \n",
    "    #and checking distance between them\n",
    "    for b in ids:\n",
    "        pos_vectors.append(Vector(state[4*b],state[4*b+1]))\n",
    "        vel_vectors.append(Vector(state[4*b+2],state[4*b+3]))\n",
    "    checkdist = linrange(0,balls,1)\n",
    "\n",
    "    #New velocities for ball-bumper collisions\n",
    "    for b in ids:\n",
    "        bld = pos_vectors[b].x\n",
    "        brd = 2 - pos_vectors[b].x\n",
    "        bbd = 0.5 + pos_vectors[b].y\n",
    "        btd = 0.5 - pos_vectors[b].y\n",
    "        if bld <= r or brd <= r:\n",
    "            vel_vectors[b] = Vector(-vel_vectors[b].x, vel_vectors[b].y)\n",
    "        if bbd <= r or btd <=r:\n",
    "            vel_vectors[b] = Vector(vel_vectors[b].x, -vel_vectors[b].y)\n",
    "    \n",
    "    #Identifying whether collisions occur\n",
    "    for b1 in checkdist:\n",
    "        if b1 == 0:\n",
    "            collisions.append(0)\n",
    "        rest = linrange(b1+1,balls,1,endpoint=True)\n",
    "        for b2 in rest:\n",
    "            if b1 == 0:\n",
    "                collisions.append(0)\n",
    "            if dist(pos_vectors[b1],pos_vectors[b2]) <= 2*r:\n",
    "                collisions[b1] = collisions[b1] + 1\n",
    "                collisions[b2] = collisions[b2] + 1\n",
    "\n",
    "    #New velocities for ball-ball collisions\n",
    "    for b1 in checkdist:\n",
    "        rest = linrange(b1+1,balls,1,endpoint=True)\n",
    "        for b2 in rest:\n",
    "            if dist(pos_vectors[b1],pos_vectors[b2]) <= 2*r:\n",
    "                if collisions[b1] > 1 or collisions[b2] > 1:\n",
    "                    if collisions[b1] > 2 or collisions[b2] > 2:\n",
    "                        print('more than three balls collided')\n",
    "                    print('three ball collision')\n",
    "                print(str(b1) + ' and ' + str(b2) + ' collided')\n",
    "                print('1position-1: ' + str(pos_vectors[b1]))\n",
    "                print('1position-2: ' + str(pos_vectors[b2]))\n",
    "                dist_error = r - pos_vectors[b1].dist(pos_vectors[b2])\n",
    "                print('dist error ' + str(dist_error))\n",
    "                v1prime = newv1(pos_vectors[b1],pos_vectors[b2],vel_vectors[b1],vel_vectors[b2])\n",
    "                v2prime = newv2(pos_vectors[b1],pos_vectors[b2],vel_vectors[b1],vel_vectors[b2])\n",
    "                vel_vectors[b1] = v1prime\n",
    "                vel_vectors[b2] = v2prime\n",
    "                \n",
    "    #Updating ball position and velocities at given moment with time step, dt\n",
    "    for b in ids:\n",
    "        pb = pos_vectors[b] + vel_vectors[b] * dt\n",
    "        vb = vel_vectors[b] + (f_force(system, vel_vectors[b])/m) * dt\n",
    "        if vb.mag <= minvel:\n",
    "            vb = Vector(0,0)\n",
    "        vs.append(vb)\n",
    "        ps.append(pb)\n",
    "\n",
    "    #Identifying if ball is in pocket \n",
    "    for b in ids:\n",
    "        if pos_vectors[b].dist(tlc) <= 2*r or pos_vectors[b].dist(blc) <= 2*r or pos_vectors[b].dist(trc) <= 2*r or pos_vectors[b].dist(brc) <= 2*r:\n",
    "            print('ball sunk')\n",
    "            if b == 0:\n",
    "                #if cue ball is sunk the score goes negative\n",
    "                system.score = -15\n",
    "            if b != 0:\n",
    "                system.score += 1\n",
    "            ps[b] = Vector(2+b,2)\n",
    "            vs[b] = Vector(0,0)\n",
    "\n",
    "    results = State(cx=ps[0].x,cy=ps[0].y,cvx=vs[0].x,cvy=vs[0].y,\n",
    "                    b1x=ps[1].x,b1y=ps[1].y,b1vx=vs[1].x,b1vy=vs[1].y,\n",
    "                    b2x=ps[2].x,b2y=ps[2].y,b2vx=vs[2].x,b2vy=vs[2].y,\n",
    "                    b3x=ps[3].x,b3y=ps[3].y,b3vx=vs[3].x,b3vy=vs[3].y,\n",
    "                    b4x=ps[4].x,b4y=ps[4].y,b4vx=vs[4].x,b4vy=vs[4].y,\n",
    "                    b5x=ps[5].x,b5y=ps[5].y,b5vx=vs[5].x,b5vy=vs[5].y,\n",
    "                    b6x=ps[6].x,b6y=ps[6].y,b6vx=vs[6].x,b6vy=vs[6].y,\n",
    "                    b7x=ps[7].x,b7y=ps[7].y,b7vx=vs[7].x,b7vy=vs[7].y,\n",
    "                    b8x=ps[8].x,b8y=ps[8].y,b8vx=vs[8].x,b8vy=vs[8].y,\n",
    "                    b9x=ps[9].x,b9y=ps[9].y,b9vx=vs[9].x,b9vy=vs[9].y,\n",
    "                    b10x=ps[10].x,b10y=ps[10].y,b10vx=vs[10].x,b10vy=vs[10].y,\n",
    "                    b11x=ps[11].x,b11y=ps[11].y,b11vx=vs[11].x,b11vy=vs[11].y,\n",
    "                    b12x=ps[12].x,b12y=ps[12].y,b12vx=vs[12].x,b12vy=vs[12].y,\n",
    "                    b13x=ps[13].x,b13y=ps[13].y,b13vx=vs[13].x,b13vy=vs[13].y,\n",
    "                    b14x=ps[14].x,b14y=ps[14].y,b14vx=vs[14].x,b14vy=vs[14].y,\n",
    "                    b15x=ps[15].x,b15y=ps[15].y,b15vx=vs[15].x,b15vy=vs[15].y)\n",
    "\n",
    "    return results"
   ]
  },
  {
   "cell_type": "markdown",
   "metadata": {},
   "source": [
    "### Run Simulation\n",
    "Creating TimeFrame in which dt is a function of the initial cue ball velocity in an attempt to balance simulation run time and accuracy"
   ]
  },
  {
   "cell_type": "code",
   "execution_count": 19,
   "metadata": {},
   "outputs": [],
   "source": [
    "def run_sim(system, update_func):\n",
    "    system = System(system, dt = system.dist_step / (100* sqrt(state.cvx**2 + state.cvy**2)), score=0)\n",
    "    unpack(system)\n",
    "\n",
    "    frame = TimeFrame(columns=init.index)\n",
    "    frame.loc[t_0] = init\n",
    "    ts = linrange(t_0, t_end, dt)\n",
    "\n",
    "    for t in ts:\n",
    "        frame.row[t+dt] = update_func(frame.row[t], t, system)\n",
    "\n",
    "    return frame, score"
   ]
  },
  {
   "cell_type": "markdown",
   "metadata": {},
   "source": [
    "### Sweeping Position and Velocity Parameters\n",
    "We sweeped discrete velocities and y-coordinates for the cue ball. We kept the initial x-coordinate location of the cue ball at 1/4 the length of the table from the left.   "
   ]
  },
  {
   "cell_type": "code",
   "execution_count": 20,
   "metadata": {},
   "outputs": [],
   "source": [
    "def sweep_sim(init,state,system,update_func, sweep_y, sweep_v):\n",
    "    unpack(system)\n",
    "    columnlabels = ['y','v','score']\n",
    "    outcome = DataFrame(index=sweep_y, columns=sweep_v)\n",
    "    for ystart in sweep_y:\n",
    "        print('ystart')\n",
    "        print(ystart)\n",
    "        init.cy = ystart\n",
    "\n",
    "        for vstart in sweep_v:\n",
    "            init.cvx = vstart\n",
    "            state = init\n",
    "            system.init = init\n",
    "            \n",
    "            print('vstart')\n",
    "            print(vstart)\n",
    "            \n",
    "            results, score = run_sim(system, update_func)\n",
    "            \n",
    "            plt.figure(10*vstart+ystart)\n",
    "            plot(results.cx, results.cy)\n",
    "            plot(results.b1x, results.b1y)\n",
    "            plot(results.b2x, results.b2y)\n",
    "            plot(results.b3x, results.b3y)\n",
    "            plot(results.b4x, results.b4y)\n",
    "            plot(results.b5x, results.b5y)\n",
    "            plot(results.b6x, results.b6y)\n",
    "            plot(results.b7x, results.b7y)\n",
    "            plot(results.b8x, results.b8y)\n",
    "            plot(results.b9x, results.b9y)\n",
    "            plot(results.b10x, results.b10y)\n",
    "            plot(results.b11x, results.b11y)\n",
    "            plot(results.b12x, results.b12y)\n",
    "            plot(results.b13x, results.b13y)\n",
    "            plot(results.b14x, results.b14y)\n",
    "            plot(results.b15x, results.b15y)\n",
    "            savefig('graphs/balls----y'+str(ystart)+'----v'+str(vstart) + '--.png')\n",
    "            \n",
    "            outcome.set_value(ystart, vstart, score)\n",
    "            print(outcome)\n",
    "\n",
    "    return outcome\n"
   ]
  },
  {
   "cell_type": "markdown",
   "metadata": {},
   "source": [
    "Creating discrete y-coordinate and velocity values to sweep using linspace "
   ]
  },
  {
   "cell_type": "code",
   "execution_count": 22,
   "metadata": {},
   "outputs": [
    {
     "name": "stdout",
     "output_type": "stream",
     "text": [
      "[0.         0.00816429 0.01632857 0.02449286 0.03265714 0.04082143\n",
      " 0.04898571 0.05715   ]\n",
      "[ 1.          2.28571429  3.57142857  4.85714286  6.14285714  7.42857143\n",
      "  8.71428571 10.        ]\n",
      "ystart\n",
      "0.0\n",
      "vstart\n",
      "1.0\n",
      "0 and 1 collided\n",
      "1position-1: [1.444253 0.      ] dimensionless\n",
      "1position-2: [1.5 0. ] dimensionless\n",
      "dist error -0.02717199999999999 dimensionless\n",
      "three ball collision\n",
      "1 and 2 collided\n",
      "1position-1: [1.5121778 0.       ] dimensionless\n",
      "1position-2: [1.55815361 0.033575  ] dimensionless\n",
      "dist error -0.028355267431774554 dimensionless\n",
      "three ball collision\n",
      "1 and 3 collided\n",
      "1position-1: [1.5121778 0.       ] dimensionless\n",
      "1position-2: [ 1.55815361 -0.033575  ] dimensionless\n",
      "dist error -0.028355267431774554 dimensionless\n",
      "2 and 5 collided\n",
      "1position-1: [1.56695264 0.04000072] dimensionless\n",
      "1position-2: [1.61630721 0.06715   ] dimensionless\n",
      "dist error -0.027754003454309156 dimensionless\n",
      "3 and 6 collided\n",
      "1position-1: [ 1.56691206 -0.03997108] dimensionless\n",
      "1position-2: [ 1.61630721 -0.06715   ] dimensionless\n",
      "dist error -0.027803852782760975 dimensionless\n",
      "5 and 8 collided\n",
      "1position-1: [1.62560271 0.07226333] dimensionless\n",
      "1position-2: [1.67446082 0.100725  ] dimensionless\n",
      "dist error -0.027968621133972086 dimensionless\n",
      "6 and 10 collided\n",
      "1position-1: [ 1.6253705  -0.07213694] dimensionless\n",
      "1position-2: [ 1.67446082 -0.100725  ] dimensionless\n",
      "dist error -0.02823288833761958 dimensionless\n",
      "8 and 13 collided\n",
      "1position-1: [1.68345367 0.10596367] dimensionless\n",
      "1position-2: [1.73261442 0.1343    ] dimensionless\n",
      "dist error -0.02816763649848313 dimensionless\n",
      "10 and 15 collided\n",
      "1position-1: [ 1.68368486 -0.10609668] dimensionless\n",
      "1position-2: [ 1.73261442 -0.1343    ] dimensionless\n",
      "dist error -0.02790091687651623 dimensionless\n"
     ]
    },
    {
     "ename": "KeyboardInterrupt",
     "evalue": "",
     "output_type": "error",
     "traceback": [
      "\u001b[1;31m---------------------------------------------------------------------------\u001b[0m",
      "\u001b[1;31mKeyboardInterrupt\u001b[0m                         Traceback (most recent call last)",
      "\u001b[1;32m<ipython-input-22-2f6da6c9686f>\u001b[0m in \u001b[0;36m<module>\u001b[1;34m()\u001b[0m\n\u001b[0;32m      5\u001b[0m \u001b[0mprint\u001b[0m\u001b[1;33m(\u001b[0m\u001b[0msweep_v\u001b[0m\u001b[1;33m)\u001b[0m\u001b[1;33m\u001b[0m\u001b[0m\n\u001b[0;32m      6\u001b[0m \u001b[1;33m\u001b[0m\u001b[0m\n\u001b[1;32m----> 7\u001b[1;33m \u001b[0mresults\u001b[0m \u001b[1;33m=\u001b[0m \u001b[0msweep_sim\u001b[0m\u001b[1;33m(\u001b[0m\u001b[0minit\u001b[0m\u001b[1;33m,\u001b[0m\u001b[0mstate\u001b[0m\u001b[1;33m,\u001b[0m\u001b[0msystem\u001b[0m\u001b[1;33m,\u001b[0m\u001b[0mupdate_func\u001b[0m\u001b[1;33m,\u001b[0m\u001b[0msweep_y\u001b[0m\u001b[1;33m,\u001b[0m\u001b[0msweep_v\u001b[0m\u001b[1;33m)\u001b[0m\u001b[1;33m\u001b[0m\u001b[0m\n\u001b[0m\u001b[0;32m      8\u001b[0m \u001b[1;33m\u001b[0m\u001b[0m\n\u001b[0;32m      9\u001b[0m \u001b[0mprint\u001b[0m\u001b[1;33m(\u001b[0m\u001b[0mresults\u001b[0m\u001b[1;33m)\u001b[0m\u001b[1;33m\u001b[0m\u001b[0m\n",
      "\u001b[1;32m<ipython-input-20-c9934d817e1d>\u001b[0m in \u001b[0;36msweep_sim\u001b[1;34m(init, state, system, update_func, sweep_y, sweep_v)\u001b[0m\n\u001b[0;32m     16\u001b[0m             \u001b[0mprint\u001b[0m\u001b[1;33m(\u001b[0m\u001b[0mvstart\u001b[0m\u001b[1;33m)\u001b[0m\u001b[1;33m\u001b[0m\u001b[0m\n\u001b[0;32m     17\u001b[0m \u001b[1;33m\u001b[0m\u001b[0m\n\u001b[1;32m---> 18\u001b[1;33m             \u001b[0mresults\u001b[0m\u001b[1;33m,\u001b[0m \u001b[0mscore\u001b[0m \u001b[1;33m=\u001b[0m \u001b[0mrun_sim\u001b[0m\u001b[1;33m(\u001b[0m\u001b[0msystem\u001b[0m\u001b[1;33m,\u001b[0m \u001b[0mupdate_func\u001b[0m\u001b[1;33m)\u001b[0m\u001b[1;33m\u001b[0m\u001b[0m\n\u001b[0m\u001b[0;32m     19\u001b[0m \u001b[1;33m\u001b[0m\u001b[0m\n\u001b[0;32m     20\u001b[0m             \u001b[0mplt\u001b[0m\u001b[1;33m.\u001b[0m\u001b[0mfigure\u001b[0m\u001b[1;33m(\u001b[0m\u001b[1;36m10\u001b[0m\u001b[1;33m*\u001b[0m\u001b[0mvstart\u001b[0m\u001b[1;33m+\u001b[0m\u001b[0mystart\u001b[0m\u001b[1;33m)\u001b[0m\u001b[1;33m\u001b[0m\u001b[0m\n",
      "\u001b[1;32m<ipython-input-19-f2649e4d98fa>\u001b[0m in \u001b[0;36mrun_sim\u001b[1;34m(system, update_func)\u001b[0m\n\u001b[0;32m      8\u001b[0m \u001b[1;33m\u001b[0m\u001b[0m\n\u001b[0;32m      9\u001b[0m     \u001b[1;32mfor\u001b[0m \u001b[0mt\u001b[0m \u001b[1;32min\u001b[0m \u001b[0mts\u001b[0m\u001b[1;33m:\u001b[0m\u001b[1;33m\u001b[0m\u001b[0m\n\u001b[1;32m---> 10\u001b[1;33m         \u001b[0mframe\u001b[0m\u001b[1;33m.\u001b[0m\u001b[0mrow\u001b[0m\u001b[1;33m[\u001b[0m\u001b[0mt\u001b[0m\u001b[1;33m+\u001b[0m\u001b[0mdt\u001b[0m\u001b[1;33m]\u001b[0m \u001b[1;33m=\u001b[0m \u001b[0mupdate_func\u001b[0m\u001b[1;33m(\u001b[0m\u001b[0mframe\u001b[0m\u001b[1;33m.\u001b[0m\u001b[0mrow\u001b[0m\u001b[1;33m[\u001b[0m\u001b[0mt\u001b[0m\u001b[1;33m]\u001b[0m\u001b[1;33m,\u001b[0m \u001b[0mt\u001b[0m\u001b[1;33m,\u001b[0m \u001b[0msystem\u001b[0m\u001b[1;33m)\u001b[0m\u001b[1;33m\u001b[0m\u001b[0m\n\u001b[0m\u001b[0;32m     11\u001b[0m \u001b[1;33m\u001b[0m\u001b[0m\n\u001b[0;32m     12\u001b[0m     \u001b[1;32mreturn\u001b[0m \u001b[0mframe\u001b[0m\u001b[1;33m,\u001b[0m \u001b[0mscore\u001b[0m\u001b[1;33m\u001b[0m\u001b[0m\n",
      "\u001b[1;32m~\\Documents\\My Stuff\\School Work\\ModSim\\PoolBreak\\modsim.py\u001b[0m in \u001b[0;36m__setitem__\u001b[1;34m(self, key, value)\u001b[0m\n\u001b[0;32m   1088\u001b[0m         \"\"\"Setting just passes the request to the wrapped object.\n\u001b[0;32m   1089\u001b[0m         \"\"\"\n\u001b[1;32m-> 1090\u001b[1;33m         \u001b[0mself\u001b[0m\u001b[1;33m.\u001b[0m\u001b[0mli\u001b[0m\u001b[1;33m[\u001b[0m\u001b[0mkey\u001b[0m\u001b[1;33m]\u001b[0m \u001b[1;33m=\u001b[0m \u001b[0mvalue\u001b[0m\u001b[1;33m\u001b[0m\u001b[0m\n\u001b[0m\u001b[0;32m   1091\u001b[0m \u001b[1;33m\u001b[0m\u001b[0m\n\u001b[0;32m   1092\u001b[0m \u001b[1;33m\u001b[0m\u001b[0m\n",
      "\u001b[1;32mC:\\Miniconda3\\lib\\site-packages\\pandas\\core\\indexing.py\u001b[0m in \u001b[0;36m__setitem__\u001b[1;34m(self, key, value)\u001b[0m\n\u001b[0;32m    187\u001b[0m             \u001b[0mkey\u001b[0m \u001b[1;33m=\u001b[0m \u001b[0mcom\u001b[0m\u001b[1;33m.\u001b[0m\u001b[0m_apply_if_callable\u001b[0m\u001b[1;33m(\u001b[0m\u001b[0mkey\u001b[0m\u001b[1;33m,\u001b[0m \u001b[0mself\u001b[0m\u001b[1;33m.\u001b[0m\u001b[0mobj\u001b[0m\u001b[1;33m)\u001b[0m\u001b[1;33m\u001b[0m\u001b[0m\n\u001b[0;32m    188\u001b[0m         \u001b[0mindexer\u001b[0m \u001b[1;33m=\u001b[0m \u001b[0mself\u001b[0m\u001b[1;33m.\u001b[0m\u001b[0m_get_setitem_indexer\u001b[0m\u001b[1;33m(\u001b[0m\u001b[0mkey\u001b[0m\u001b[1;33m)\u001b[0m\u001b[1;33m\u001b[0m\u001b[0m\n\u001b[1;32m--> 189\u001b[1;33m         \u001b[0mself\u001b[0m\u001b[1;33m.\u001b[0m\u001b[0m_setitem_with_indexer\u001b[0m\u001b[1;33m(\u001b[0m\u001b[0mindexer\u001b[0m\u001b[1;33m,\u001b[0m \u001b[0mvalue\u001b[0m\u001b[1;33m)\u001b[0m\u001b[1;33m\u001b[0m\u001b[0m\n\u001b[0m\u001b[0;32m    190\u001b[0m \u001b[1;33m\u001b[0m\u001b[0m\n\u001b[0;32m    191\u001b[0m     \u001b[1;32mdef\u001b[0m \u001b[0m_validate_key\u001b[0m\u001b[1;33m(\u001b[0m\u001b[0mself\u001b[0m\u001b[1;33m,\u001b[0m \u001b[0mkey\u001b[0m\u001b[1;33m,\u001b[0m \u001b[0maxis\u001b[0m\u001b[1;33m)\u001b[0m\u001b[1;33m:\u001b[0m\u001b[1;33m\u001b[0m\u001b[0m\n",
      "\u001b[1;32mC:\\Miniconda3\\lib\\site-packages\\pandas\\core\\indexing.py\u001b[0m in \u001b[0;36m_setitem_with_indexer\u001b[1;34m(self, indexer, value)\u001b[0m\n\u001b[0;32m    449\u001b[0m                                        name=indexer)\n\u001b[0;32m    450\u001b[0m \u001b[1;33m\u001b[0m\u001b[0m\n\u001b[1;32m--> 451\u001b[1;33m                     \u001b[0mself\u001b[0m\u001b[1;33m.\u001b[0m\u001b[0mobj\u001b[0m\u001b[1;33m.\u001b[0m\u001b[0m_data\u001b[0m \u001b[1;33m=\u001b[0m \u001b[0mself\u001b[0m\u001b[1;33m.\u001b[0m\u001b[0mobj\u001b[0m\u001b[1;33m.\u001b[0m\u001b[0mappend\u001b[0m\u001b[1;33m(\u001b[0m\u001b[0mvalue\u001b[0m\u001b[1;33m)\u001b[0m\u001b[1;33m.\u001b[0m\u001b[0m_data\u001b[0m\u001b[1;33m\u001b[0m\u001b[0m\n\u001b[0m\u001b[0;32m    452\u001b[0m                     \u001b[0mself\u001b[0m\u001b[1;33m.\u001b[0m\u001b[0mobj\u001b[0m\u001b[1;33m.\u001b[0m\u001b[0m_maybe_update_cacher\u001b[0m\u001b[1;33m(\u001b[0m\u001b[0mclear\u001b[0m\u001b[1;33m=\u001b[0m\u001b[1;32mTrue\u001b[0m\u001b[1;33m)\u001b[0m\u001b[1;33m\u001b[0m\u001b[0m\n\u001b[0;32m    453\u001b[0m                     \u001b[1;32mreturn\u001b[0m \u001b[0mself\u001b[0m\u001b[1;33m.\u001b[0m\u001b[0mobj\u001b[0m\u001b[1;33m\u001b[0m\u001b[0m\n",
      "\u001b[1;32mC:\\Miniconda3\\lib\\site-packages\\pandas\\core\\frame.py\u001b[0m in \u001b[0;36mappend\u001b[1;34m(self, other, ignore_index, verify_integrity, sort)\u001b[0m\n\u001b[0;32m   6194\u001b[0m                               \u001b[0mindex\u001b[0m\u001b[1;33m=\u001b[0m\u001b[0mindex\u001b[0m\u001b[1;33m,\u001b[0m\u001b[1;33m\u001b[0m\u001b[0m\n\u001b[0;32m   6195\u001b[0m                               columns=combined_columns)\n\u001b[1;32m-> 6196\u001b[1;33m             \u001b[0mother\u001b[0m \u001b[1;33m=\u001b[0m \u001b[0mother\u001b[0m\u001b[1;33m.\u001b[0m\u001b[0m_convert\u001b[0m\u001b[1;33m(\u001b[0m\u001b[0mdatetime\u001b[0m\u001b[1;33m=\u001b[0m\u001b[1;32mTrue\u001b[0m\u001b[1;33m,\u001b[0m \u001b[0mtimedelta\u001b[0m\u001b[1;33m=\u001b[0m\u001b[1;32mTrue\u001b[0m\u001b[1;33m)\u001b[0m\u001b[1;33m\u001b[0m\u001b[0m\n\u001b[0m\u001b[0;32m   6197\u001b[0m             \u001b[1;32mif\u001b[0m \u001b[1;32mnot\u001b[0m \u001b[0mself\u001b[0m\u001b[1;33m.\u001b[0m\u001b[0mcolumns\u001b[0m\u001b[1;33m.\u001b[0m\u001b[0mequals\u001b[0m\u001b[1;33m(\u001b[0m\u001b[0mcombined_columns\u001b[0m\u001b[1;33m)\u001b[0m\u001b[1;33m:\u001b[0m\u001b[1;33m\u001b[0m\u001b[0m\n\u001b[0;32m   6198\u001b[0m                 \u001b[0mself\u001b[0m \u001b[1;33m=\u001b[0m \u001b[0mself\u001b[0m\u001b[1;33m.\u001b[0m\u001b[0mreindex\u001b[0m\u001b[1;33m(\u001b[0m\u001b[0mcolumns\u001b[0m\u001b[1;33m=\u001b[0m\u001b[0mcombined_columns\u001b[0m\u001b[1;33m)\u001b[0m\u001b[1;33m\u001b[0m\u001b[0m\n",
      "\u001b[1;32mC:\\Miniconda3\\lib\\site-packages\\pandas\\core\\generic.py\u001b[0m in \u001b[0;36m_convert\u001b[1;34m(self, datetime, numeric, timedelta, coerce, copy)\u001b[0m\n\u001b[0;32m   5152\u001b[0m             self._data.convert(datetime=datetime, numeric=numeric,\n\u001b[0;32m   5153\u001b[0m                                \u001b[0mtimedelta\u001b[0m\u001b[1;33m=\u001b[0m\u001b[0mtimedelta\u001b[0m\u001b[1;33m,\u001b[0m \u001b[0mcoerce\u001b[0m\u001b[1;33m=\u001b[0m\u001b[0mcoerce\u001b[0m\u001b[1;33m,\u001b[0m\u001b[1;33m\u001b[0m\u001b[0m\n\u001b[1;32m-> 5154\u001b[1;33m                                copy=copy)).__finalize__(self)\n\u001b[0m\u001b[0;32m   5155\u001b[0m \u001b[1;33m\u001b[0m\u001b[0m\n\u001b[0;32m   5156\u001b[0m     def convert_objects(self, convert_dates=True, convert_numeric=False,\n",
      "\u001b[1;32mC:\\Miniconda3\\lib\\site-packages\\pandas\\core\\internals.py\u001b[0m in \u001b[0;36mconvert\u001b[1;34m(self, **kwargs)\u001b[0m\n\u001b[0;32m   3715\u001b[0m \u001b[1;33m\u001b[0m\u001b[0m\n\u001b[0;32m   3716\u001b[0m     \u001b[1;32mdef\u001b[0m \u001b[0mconvert\u001b[0m\u001b[1;33m(\u001b[0m\u001b[0mself\u001b[0m\u001b[1;33m,\u001b[0m \u001b[1;33m**\u001b[0m\u001b[0mkwargs\u001b[0m\u001b[1;33m)\u001b[0m\u001b[1;33m:\u001b[0m\u001b[1;33m\u001b[0m\u001b[0m\n\u001b[1;32m-> 3717\u001b[1;33m         \u001b[1;32mreturn\u001b[0m \u001b[0mself\u001b[0m\u001b[1;33m.\u001b[0m\u001b[0mapply\u001b[0m\u001b[1;33m(\u001b[0m\u001b[1;34m'convert'\u001b[0m\u001b[1;33m,\u001b[0m \u001b[1;33m**\u001b[0m\u001b[0mkwargs\u001b[0m\u001b[1;33m)\u001b[0m\u001b[1;33m\u001b[0m\u001b[0m\n\u001b[0m\u001b[0;32m   3718\u001b[0m \u001b[1;33m\u001b[0m\u001b[0m\n\u001b[0;32m   3719\u001b[0m     \u001b[1;32mdef\u001b[0m \u001b[0mreplace\u001b[0m\u001b[1;33m(\u001b[0m\u001b[0mself\u001b[0m\u001b[1;33m,\u001b[0m \u001b[1;33m**\u001b[0m\u001b[0mkwargs\u001b[0m\u001b[1;33m)\u001b[0m\u001b[1;33m:\u001b[0m\u001b[1;33m\u001b[0m\u001b[0m\n",
      "\u001b[1;32mC:\\Miniconda3\\lib\\site-packages\\pandas\\core\\internals.py\u001b[0m in \u001b[0;36mapply\u001b[1;34m(self, f, axes, filter, do_integrity_check, consolidate, **kwargs)\u001b[0m\n\u001b[0;32m   3585\u001b[0m             \u001b[1;32mreturn\u001b[0m \u001b[0mself\u001b[0m\u001b[1;33m.\u001b[0m\u001b[0mmake_empty\u001b[0m\u001b[1;33m(\u001b[0m\u001b[0maxes\u001b[0m \u001b[1;32mor\u001b[0m \u001b[0mself\u001b[0m\u001b[1;33m.\u001b[0m\u001b[0maxes\u001b[0m\u001b[1;33m)\u001b[0m\u001b[1;33m\u001b[0m\u001b[0m\n\u001b[0;32m   3586\u001b[0m         bm = self.__class__(result_blocks, axes or self.axes,\n\u001b[1;32m-> 3587\u001b[1;33m                             do_integrity_check=do_integrity_check)\n\u001b[0m\u001b[0;32m   3588\u001b[0m         \u001b[0mbm\u001b[0m\u001b[1;33m.\u001b[0m\u001b[0m_consolidate_inplace\u001b[0m\u001b[1;33m(\u001b[0m\u001b[1;33m)\u001b[0m\u001b[1;33m\u001b[0m\u001b[0m\n\u001b[0;32m   3589\u001b[0m         \u001b[1;32mreturn\u001b[0m \u001b[0mbm\u001b[0m\u001b[1;33m\u001b[0m\u001b[0m\n",
      "\u001b[1;32mC:\\Miniconda3\\lib\\site-packages\\pandas\\core\\internals.py\u001b[0m in \u001b[0;36m__init__\u001b[1;34m(self, blocks, axes, do_integrity_check)\u001b[0m\n\u001b[0;32m   3284\u001b[0m         \u001b[0mself\u001b[0m\u001b[1;33m.\u001b[0m\u001b[0m_consolidate_check\u001b[0m\u001b[1;33m(\u001b[0m\u001b[1;33m)\u001b[0m\u001b[1;33m\u001b[0m\u001b[0m\n\u001b[0;32m   3285\u001b[0m \u001b[1;33m\u001b[0m\u001b[0m\n\u001b[1;32m-> 3286\u001b[1;33m         \u001b[0mself\u001b[0m\u001b[1;33m.\u001b[0m\u001b[0m_rebuild_blknos_and_blklocs\u001b[0m\u001b[1;33m(\u001b[0m\u001b[1;33m)\u001b[0m\u001b[1;33m\u001b[0m\u001b[0m\n\u001b[0m\u001b[0;32m   3287\u001b[0m \u001b[1;33m\u001b[0m\u001b[0m\n\u001b[0;32m   3288\u001b[0m     \u001b[1;32mdef\u001b[0m \u001b[0mmake_empty\u001b[0m\u001b[1;33m(\u001b[0m\u001b[0mself\u001b[0m\u001b[1;33m,\u001b[0m \u001b[0maxes\u001b[0m\u001b[1;33m=\u001b[0m\u001b[1;32mNone\u001b[0m\u001b[1;33m)\u001b[0m\u001b[1;33m:\u001b[0m\u001b[1;33m\u001b[0m\u001b[0m\n",
      "\u001b[1;32mC:\\Miniconda3\\lib\\site-packages\\pandas\\core\\internals.py\u001b[0m in \u001b[0;36m_rebuild_blknos_and_blklocs\u001b[1;34m(self)\u001b[0m\n\u001b[0;32m   3373\u001b[0m             \u001b[0mrl\u001b[0m \u001b[1;33m=\u001b[0m \u001b[0mblk\u001b[0m\u001b[1;33m.\u001b[0m\u001b[0mmgr_locs\u001b[0m\u001b[1;33m\u001b[0m\u001b[0m\n\u001b[0;32m   3374\u001b[0m             \u001b[0mnew_blknos\u001b[0m\u001b[1;33m[\u001b[0m\u001b[0mrl\u001b[0m\u001b[1;33m.\u001b[0m\u001b[0mindexer\u001b[0m\u001b[1;33m]\u001b[0m \u001b[1;33m=\u001b[0m \u001b[0mblkno\u001b[0m\u001b[1;33m\u001b[0m\u001b[0m\n\u001b[1;32m-> 3375\u001b[1;33m             \u001b[0mnew_blklocs\u001b[0m\u001b[1;33m[\u001b[0m\u001b[0mrl\u001b[0m\u001b[1;33m.\u001b[0m\u001b[0mindexer\u001b[0m\u001b[1;33m]\u001b[0m \u001b[1;33m=\u001b[0m \u001b[0mnp\u001b[0m\u001b[1;33m.\u001b[0m\u001b[0marange\u001b[0m\u001b[1;33m(\u001b[0m\u001b[0mlen\u001b[0m\u001b[1;33m(\u001b[0m\u001b[0mrl\u001b[0m\u001b[1;33m)\u001b[0m\u001b[1;33m)\u001b[0m\u001b[1;33m\u001b[0m\u001b[0m\n\u001b[0m\u001b[0;32m   3376\u001b[0m \u001b[1;33m\u001b[0m\u001b[0m\n\u001b[0;32m   3377\u001b[0m         \u001b[1;32mif\u001b[0m \u001b[1;33m(\u001b[0m\u001b[0mnew_blknos\u001b[0m \u001b[1;33m==\u001b[0m \u001b[1;33m-\u001b[0m\u001b[1;36m1\u001b[0m\u001b[1;33m)\u001b[0m\u001b[1;33m.\u001b[0m\u001b[0many\u001b[0m\u001b[1;33m(\u001b[0m\u001b[1;33m)\u001b[0m\u001b[1;33m:\u001b[0m\u001b[1;33m\u001b[0m\u001b[0m\n",
      "\u001b[1;31mKeyboardInterrupt\u001b[0m: "
     ]
    }
   ],
   "source": [
    "sweep_y = linspace(0,0.05715,8, endpoint=True)\n",
    "sweep_v = linspace(1,10,8, endpoint=True)\n",
    "\n",
    "print(sweep_y)\n",
    "print(sweep_v)\n",
    "\n",
    "results = sweep_sim(init,state,system,update_func,sweep_y,sweep_v)\n",
    "\n",
    "print(results)\n"
   ]
  },
  {
   "cell_type": "markdown",
   "metadata": {},
   "source": [
    "## RESULTS"
   ]
  },
  {
   "cell_type": "markdown",
   "metadata": {},
   "source": [
    "|-|Vinit (m/s):|1\t  |2.286 |3.571 |4.857 |6.143 |7.429 |8.714 |10    |\n",
    "|------|------|------|------|------|------|------|------|------|------|\n",
    "|Ypos:|0|0|0|0|0|0|1|1|2|\n",
    "|-|0.008|0|0|1|0|0|1|0|1|\n",
    "|-|0.016|0|0|0|1|1|1|1|0|\n",
    "|-|0.024|0|0|0|1|0|2|1|2|\n",
    "|-|0.033|0|0|1|1|1|0|2|1|\n",
    "|-|0.04|0|0|0|0|Scratch|1|2|2|\n",
    "|-|0.049|0|0|0|1|0|Scratch|Scratch|1|\n",
    "|-|0.057|0|0|0|0|0|0|0|2|"
   ]
  },
  {
   "cell_type": "markdown",
   "metadata": {},
   "source": [
    "## INTERPRETATION"
   ]
  },
  {
   "cell_type": "markdown",
   "metadata": {},
   "source": [
    "Because we sweeped discrete values over a fairly coarse value range, it is hard to draw solid conclusions from our data. Though we can see that the chance of scoring on the break increases with a higher initial cue ball velocity. It also appears that more balls go in off the break when the cue ball hits the first ball in the rack slightly off center. \n",
    "\n",
    "Because we assumed all the balls to be discs, we didn't include rotational motion at all, which means we disregarded torque, cue tip-cue ball interactions, where the cue hits the on the cue ball surface, etc. In addition, because we assumed all the collisions to be completely elastic, we didn't account for energy lost between ball-ball, ball-bumper, and ball-table collisions.\n",
    "\n",
    "Furthermore, in our model, because we used a discrete dt, there were points in time in which the balls could have intersected one another before recognizing that a collision had occurred. Our biggest annoyance was dealing with long run times due to the fact that we had so many factors and values to sweep over a fairly long time.  \n",
    "\n",
    "If we were to continue working on this model, we would make the dimensions of the pool table more accurate, have a much smaller time step, make the collisions not completely elastic using restitution coefficients between ball-bumper, ball-ball, and ball-table interactions, and sweep through more speeds and y-coordinates for fine tuning. Other variables we would sweep would include x-coordinates and angle. \n",
    "\n",
    "We also calculated a distance error, which was the percentage error between the actual collision distance and the distance they should be at. This was used when trying to fine tune dt values. In this model, the largest distance error was about 5%.  \n"
   ]
  },
  {
   "cell_type": "code",
   "execution_count": null,
   "metadata": {},
   "outputs": [],
   "source": []
  }
 ],
 "metadata": {
  "kernelspec": {
   "display_name": "Python 3",
   "language": "python",
   "name": "python3"
  },
  "language_info": {
   "codemirror_mode": {
    "name": "ipython",
    "version": 3
   },
   "file_extension": ".py",
   "mimetype": "text/x-python",
   "name": "python",
   "nbconvert_exporter": "python",
   "pygments_lexer": "ipython3",
   "version": "3.6.6"
  }
 },
 "nbformat": 4,
 "nbformat_minor": 2
}
