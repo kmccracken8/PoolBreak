{
 "cells": [
  {
   "cell_type": "markdown",
   "metadata": {},
   "source": [
    "# Final Project: Pool Break\n",
    "\n",
    "Annie Chu and Kyle McCracken\n",
    "\n",
    "ModSim Studio 1\n"
   ]
  },
  {
   "cell_type": "code",
   "execution_count": 3,
   "metadata": {},
   "outputs": [],
   "source": [
    "# Configure Jupyter so figures appear in the notebook\n",
    "%matplotlib inline\n",
    "\n",
    "# Configure Jupyter to display the assigned value after an assignment\n",
    "%config InteractiveShell.ast_node_interactivity='last_expr_or_assign'\n",
    "\n",
    "# import functions from the modsim.py module\n",
    "from modsim import *"
   ]
  },
  {
   "cell_type": "markdown",
   "metadata": {},
   "source": [
    "## QUESTION\n",
    "### What is the optimal speed and position of the cue ball for the best pool break?\n",
    "\n",
    "Within every pool game is an initial break between the cue ball and the racked pool balls. We seeked to find the best initial position and speed of the cue ball in order to get the most number of balls into pockets within the initial break. "
   ]
  },
  {
   "cell_type": "markdown",
   "metadata": {},
   "source": [
    "## METHODS "
   ]
  },
  {
   "cell_type": "markdown",
   "metadata": {},
   "source": [
    "### Initializing System\n",
    "\n",
    "When making our system, we assumed all the balls to be 2D discs and essentially ignored rotational motion. A typical pool table is 2.84 by 1.42 meters; for simplicity's sake, we assumed the table to be 2x1 meters. The mass and radius of the ball is included as well. In addition, we included both coefficients, kinetic and static, of friction between the balls and the cloth of the table.\n",
    "\n",
    "Our xy plane starts from the middle left of the pool table, meaning (0,-0.5) would be the the bottom left of the pool table and (0, 0.5) would be the top left. \n",
    "\n",
    "Also, in the initial racking of the pool balls, we assumed a small space of 0.5cm between all of them to limit multiple-object collisions. Essentially the balls are points with a radius. "
   ]
  },
  {
   "cell_type": "code",
   "execution_count": 34,
   "metadata": {},
   "outputs": [
    {
     "data": {
      "text/html": [
       "<div>\n",
       "<style scoped>\n",
       "    .dataframe tbody tr th:only-of-type {\n",
       "        vertical-align: middle;\n",
       "    }\n",
       "\n",
       "    .dataframe tbody tr th {\n",
       "        vertical-align: top;\n",
       "    }\n",
       "\n",
       "    .dataframe thead th {\n",
       "        text-align: right;\n",
       "    }\n",
       "</style>\n",
       "<table border=\"1\" class=\"dataframe\">\n",
       "  <thead>\n",
       "    <tr style=\"text-align: right;\">\n",
       "      <th></th>\n",
       "      <th>values</th>\n",
       "    </tr>\n",
       "  </thead>\n",
       "  <tbody>\n",
       "    <tr>\n",
       "      <th>init</th>\n",
       "      <td>cx      0.50\n",
       "cy      0.00\n",
       "cvx     3.90\n",
       "cvy    ...</td>\n",
       "    </tr>\n",
       "    <tr>\n",
       "      <th>fs</th>\n",
       "      <td>0.0166698</td>\n",
       "    </tr>\n",
       "    <tr>\n",
       "      <th>fk</th>\n",
       "      <td>0.333396</td>\n",
       "    </tr>\n",
       "    <tr>\n",
       "      <th>m</th>\n",
       "      <td>0.1701</td>\n",
       "    </tr>\n",
       "    <tr>\n",
       "      <th>r</th>\n",
       "      <td>0.028575</td>\n",
       "    </tr>\n",
       "    <tr>\n",
       "      <th>balls</th>\n",
       "      <td>2</td>\n",
       "    </tr>\n",
       "    <tr>\n",
       "      <th>dist_step</th>\n",
       "      <td>2</td>\n",
       "    </tr>\n",
       "    <tr>\n",
       "      <th>t_0</th>\n",
       "      <td>0</td>\n",
       "    </tr>\n",
       "    <tr>\n",
       "      <th>t_end</th>\n",
       "      <td>10</td>\n",
       "    </tr>\n",
       "    <tr>\n",
       "      <th>minvel</th>\n",
       "      <td>0.01</td>\n",
       "    </tr>\n",
       "    <tr>\n",
       "      <th>h</th>\n",
       "      <td>1</td>\n",
       "    </tr>\n",
       "    <tr>\n",
       "      <th>w</th>\n",
       "      <td>2</td>\n",
       "    </tr>\n",
       "    <tr>\n",
       "      <th>t_cut</th>\n",
       "      <td>1</td>\n",
       "    </tr>\n",
       "  </tbody>\n",
       "</table>\n",
       "</div>"
      ],
      "text/plain": [
       "init         cx      0.50\n",
       "cy      0.00\n",
       "cvx     3.90\n",
       "cvy    ...\n",
       "fs                                                   0.0166698\n",
       "fk                                                    0.333396\n",
       "m                                                       0.1701\n",
       "r                                                     0.028575\n",
       "balls                                                        2\n",
       "dist_step                                                    2\n",
       "t_0                                                          0\n",
       "t_end                                                       10\n",
       "minvel                                                    0.01\n",
       "h                                                            1\n",
       "w                                                            2\n",
       "t_cut                                                        1\n",
       "dtype: object"
      ]
     },
     "execution_count": 34,
     "metadata": {},
     "output_type": "execute_result"
    }
   ],
   "source": [
    "init = State(cx=0.5,cy=0,cvx=3.9,cvy=0, b1x=1.5,\n",
    "             b1y=.02,b1vx=0,b1vy=0, b2x=1.55,\n",
    "             b2y=-0.01,b2vx=0,b2vy=0)\n",
    "state = init\n",
    "system = System(init = init, fs=0.0166698, fk=0.333396, \n",
    "                m=0.1701, r=0.028575, balls=2, dist_step=2, \n",
    "                t_0=0, t_end=10, minvel=.01, h=1, w=2, t_cut=1)"
   ]
  },
  {
   "cell_type": "markdown",
   "metadata": {},
   "source": [
    "#### Calculating Force of Friction\n",
    "Used to adjust the velocities of the balls while running the simulation. We found the threshold velocity in switching from static to kinetic friction to be 0.5 m/s. "
   ]
  },
  {
   "cell_type": "code",
   "execution_count": 35,
   "metadata": {},
   "outputs": [],
   "source": [
    "def f_force(system, v_vector):\n",
    "    unpack(system)\n",
    "    if v_vector.mag > 0.5:\n",
    "        f_force_vector = v_vector.hat() * -fk\n",
    "        return f_force_vector\n",
    "    f_force_vector = v_vector.hat() * -fs\n",
    "    return f_force_vector"
   ]
  },
  {
   "cell_type": "markdown",
   "metadata": {},
   "source": [
    "#### Rewriting the dot function for distance into a generic function\n"
   ]
  },
  {
   "cell_type": "code",
   "execution_count": 36,
   "metadata": {},
   "outputs": [],
   "source": [
    "def dist(v1, v2):\n",
    "    dist = v1.dist(v2)\n",
    "    return dist"
   ]
  },
  {
   "cell_type": "markdown",
   "metadata": {},
   "source": [
    "#### Calculating New Velocities in 2-Object Elastic Collisions \n",
    "\n",
    "We used calculations for two-body completely elastic collisions, meaning we assume that although a ball may be touching 2 or more other balls \"simultaneously,\" it is actually not simultaneous and there's a small delay between those collisions. \n",
    "\n",
    "Referencing conservation of momentum and kinetic energy, we used an angle-free equation for the new velocities after collisions. "
   ]
  },
  {
   "cell_type": "code",
   "execution_count": 37,
   "metadata": {},
   "outputs": [],
   "source": [
    "def newv1(p1, p2, v1, v2):\n",
    "    v1diff = v1 - v2\n",
    "    x1diff = p1 - p2\n",
    "    v1prime = v1 - x1diff * v1diff.dot(x1diff) / (x1diff.mag**2)\n",
    "    return v1prime\n",
    "\n",
    "def newv2(p1, p2, v1, v2):\n",
    "    v2diff = v2 - v1\n",
    "    x2diff = p2 - p1\n",
    "    v2prime = v2 - x2diff * v2diff.dot(x2diff) / (x2diff.mag**2)\n",
    "    return v2prime"
   ]
  },
  {
   "cell_type": "markdown",
   "metadata": {},
   "source": [
    "### Update function"
   ]
  },
  {
   "cell_type": "code",
   "execution_count": 38,
   "metadata": {},
   "outputs": [],
   "source": [
    "def update_func(state, t, system):\n",
    "    unpack(system)\n",
    "    \n",
    "    #Initializing Pool Table Dimensions + Coordinate Plane \n",
    "    tlc = Vector(0,h/2)\n",
    "    blc = Vector(0,-h/2)\n",
    "    trc = Vector(w,h/2)\n",
    "    brc = Vector(w,-h/2)\n",
    "\n",
    "    #Initializing Balls, Arrays for Position + Velocity vectors\n",
    "    ids = linrange(0,balls,1,endpoint=True)\n",
    "    pos_vectors = []\n",
    "    vel_vectors = []\n",
    "    ps = []\n",
    "    vs = []\n",
    "    collisions = []\n",
    "    \n",
    "    #Adding position and velocity vectors from state to respective arrays, \n",
    "    #and checking distance between them\n",
    "    for b in ids:\n",
    "        pos_vectors.append(Vector(state[4*b],state[4*b+1]))\n",
    "        vel_vectors.append(Vector(state[4*b+2],state[4*b+3]))\n",
    "    checkdist = linrange(0,balls,1)\n",
    "\n",
    "    #New velocities for ball-bumper collisions\n",
    "    for b in ids:\n",
    "        bld = pos_vectors[b].x\n",
    "        brd = 2 - pos_vectors[b].x\n",
    "        bbd = 0.5 + pos_vectors[b].y\n",
    "        btd = 0.5 - pos_vectors[b].y\n",
    "        if bld <= r or brd <= r:\n",
    "            vel_vectors[b] = Vector(-vel_vectors[b].x, vel_vectors[b].y)\n",
    "        if bbd <= r or btd <=r:\n",
    "            vel_vectors[b] = Vector(vel_vectors[b].x, -vel_vectors[b].y)\n",
    "    \n",
    "    #Identifying whether collisions occur\n",
    "    for b1 in checkdist:\n",
    "        if b1 == 0:\n",
    "            collisions.append(0)\n",
    "        rest = linrange(b1+1,balls,1,endpoint=True)\n",
    "        for b2 in rest:\n",
    "            if b1 == 0:\n",
    "                collisions.append(0)\n",
    "            if dist(pos_vectors[b1],pos_vectors[b2]) <= 2*r:\n",
    "                collisions[b1] = collisions[b1] + 1\n",
    "                collisions[b2] = collisions[b2] + 1\n",
    "\n",
    "    #New velocities for ball-ball collisions\n",
    "    for b1 in checkdist:\n",
    "        rest = linrange(b1+1,balls,1,endpoint=True)\n",
    "        for b2 in rest:\n",
    "            if dist(pos_vectors[b1],pos_vectors[b2]) <= 2*r:\n",
    "                if collisions[b1] > 1 or collisions[b2] > 1:\n",
    "                    if collisions[b1] > 2 or collisions[b2] > 2:\n",
    "                        print('well fuck')\n",
    "                    # do some shit here for when threee balllllls touch eachother\n",
    "                    print('three ball collision')\n",
    "                print(str(b1) + ' and ' + str(b2) + ' collided')\n",
    "                print('1position-1: ' + str(pos_vectors[b1]))\n",
    "                print('1position-2: ' + str(pos_vectors[b2]))\n",
    "                dist_error = r - pos_vectors[b1].dist(pos_vectors[b2])\n",
    "                print('dist error ' + str(dist_error))\n",
    "                v1prime = newv1(pos_vectors[b1],pos_vectors[b2],vel_vectors[b1],vel_vectors[b2])\n",
    "                v2prime = newv2(pos_vectors[b1],pos_vectors[b2],vel_vectors[b1],vel_vectors[b2])\n",
    "                vel_vectors[b1] = v1prime\n",
    "                vel_vectors[b2] = v2prime\n",
    "                \n",
    "    #Updating ball position and velocities at given moment with time step, dt\n",
    "    for b in ids:\n",
    "        pb = pos_vectors[b] + vel_vectors[b] * dt\n",
    "        vb = vel_vectors[b] + (f_force(system, vel_vectors[b])/m) * dt\n",
    "        if vb.mag <= minvel:\n",
    "            vb = Vector(0,0)\n",
    "        vs.append(vb)\n",
    "        ps.append(pb)\n",
    "\n",
    "    #Identifying if ball is in pocket \n",
    "    for b in ids:\n",
    "        if pos_vectors[b].dist(tlc) <= 2*r or pos_vectors[b].dist(blc) <= 2*r or pos_vectors[b].dist(trc) <= 2*r or pos_vectors[b].dist(brc) <= 2*r:\n",
    "            print('ball sunk')\n",
    "            system.score += 1\n",
    "            ps[b] = Vector(2+b,2)\n",
    "            vs[b] = Vector(0,0)\n",
    "\n",
    "    results = State(cx=ps[0].x,cy=ps[0].y,cvx=vs[0].x,cvy=vs[0].y, b1x=ps[1].x,b1y=ps[1].y,b1vx=vs[1].x,b1vy=vs[1].y, b2x=ps[2].x,b2y=ps[2].y,b2vx=vs[2].x,b2vy=vs[2].y)\n",
    "\n",
    "    return results"
   ]
  },
  {
   "cell_type": "markdown",
   "metadata": {},
   "source": [
    "### Run Simulation\n",
    "Creating TimeFrame in which dt is a function of the initial cue ball velocity in an attempt to balance simulation run time and accuracy"
   ]
  },
  {
   "cell_type": "code",
   "execution_count": 39,
   "metadata": {},
   "outputs": [],
   "source": [
    "def run_sim(system, update_func):\n",
    "    system = System(system, dt = system.dist_step / (100* sqrt(state.cvx**2 + state.cvy**2)), score=0)\n",
    "    unpack(system)\n",
    "\n",
    "    frame = TimeFrame(columns=init.index)\n",
    "    frame.loc[t_0] = init\n",
    "    ts = linrange(t_0, t_end, dt)\n",
    "\n",
    "    for t in ts:\n",
    "        frame.row[t+dt] = update_func(frame.row[t], t, system)\n",
    "\n",
    "    return frame, score"
   ]
  },
  {
   "cell_type": "markdown",
   "metadata": {},
   "source": [
    "### Sweeping Position and Velocity Parameters\n",
    "We sweeped discrete velocities and y-coordinates for the cue ball. We kept the initial x-coordinate location of the cue ball at 1/4 the length of the table from the left.   "
   ]
  },
  {
   "cell_type": "code",
   "execution_count": 40,
   "metadata": {},
   "outputs": [],
   "source": [
    "def sweep_sim(init,state,system,update_func, sweep_y, sweep_v):\n",
    "    unpack(system)\n",
    "    columnlabels = ['y','v','score']\n",
    "    outcome = DataFrame(index=sweep_y, columns=sweep_v)\n",
    "    for ystart in sweep_y:\n",
    "        print('ystart')\n",
    "        print(ystart)\n",
    "        init.cy = ystart\n",
    "\n",
    "        for vstart in sweep_v:\n",
    "            init.cvx = vstart\n",
    "            state = init\n",
    "            system.init = init\n",
    "            print('vstart')\n",
    "            print(vstart)\n",
    "            results, score = run_sim(system, update_func)\n",
    "            plt.figure(10*vstart+ystart)\n",
    "            plot(results.cx, results.cy)\n",
    "            plot(results.b1x, results.b1y)\n",
    "            plot(results.b2x, results.b2y)\n",
    "            savefig('graphs/balls----y'+str(ystart)+'----v'+str(vstart) + '--.png')\n",
    "            outcome.set_value(ystart, vstart, score)\n",
    "\n",
    "    return outcome\n"
   ]
  },
  {
   "cell_type": "markdown",
   "metadata": {},
   "source": [
    "Creating discrete y-coordinate and velocity values to sweep using linspace "
   ]
  },
  {
   "cell_type": "code",
   "execution_count": 33,
   "metadata": {},
   "outputs": [
    {
     "name": "stdout",
     "output_type": "stream",
     "text": [
      "[-0.4  0.   0.4]\n",
      "[ 1.  10.5 20. ]\n",
      "ystart\n",
      "-0.4\n",
      "vstart\n",
      "1.0\n",
      "Saving figure to file graphs/balls----y-0.4----v1.0--.png\n",
      "vstart\n",
      "10.5\n"
     ]
    },
    {
     "name": "stderr",
     "output_type": "stream",
     "text": [
      "C:\\Miniconda3\\lib\\site-packages\\ipykernel_launcher.py:22: FutureWarning: set_value is deprecated and will be removed in a future release. Please use .at[] or .iat[] accessors instead\n"
     ]
    },
    {
     "ename": "KeyboardInterrupt",
     "evalue": "",
     "output_type": "error",
     "traceback": [
      "\u001b[1;31m---------------------------------------------------------------------------\u001b[0m",
      "\u001b[1;31mKeyboardInterrupt\u001b[0m                         Traceback (most recent call last)",
      "\u001b[1;32m<ipython-input-33-78ccb541a2db>\u001b[0m in \u001b[0;36m<module>\u001b[1;34m()\u001b[0m\n\u001b[0;32m      5\u001b[0m \u001b[0mprint\u001b[0m\u001b[1;33m(\u001b[0m\u001b[0msweep_v\u001b[0m\u001b[1;33m)\u001b[0m\u001b[1;33m\u001b[0m\u001b[0m\n\u001b[0;32m      6\u001b[0m \u001b[1;33m\u001b[0m\u001b[0m\n\u001b[1;32m----> 7\u001b[1;33m \u001b[0mresults\u001b[0m \u001b[1;33m=\u001b[0m \u001b[0msweep_sim\u001b[0m\u001b[1;33m(\u001b[0m\u001b[0minit\u001b[0m\u001b[1;33m,\u001b[0m\u001b[0mstate\u001b[0m\u001b[1;33m,\u001b[0m\u001b[0msystem\u001b[0m\u001b[1;33m,\u001b[0m\u001b[0mupdate_func\u001b[0m\u001b[1;33m,\u001b[0m\u001b[0msweep_y\u001b[0m\u001b[1;33m,\u001b[0m\u001b[0msweep_v\u001b[0m\u001b[1;33m)\u001b[0m\u001b[1;33m\u001b[0m\u001b[0m\n\u001b[0m\u001b[0;32m      8\u001b[0m \u001b[1;33m\u001b[0m\u001b[0m\n\u001b[0;32m      9\u001b[0m \u001b[0mprint\u001b[0m\u001b[1;33m(\u001b[0m\u001b[0mresults\u001b[0m\u001b[1;33m)\u001b[0m\u001b[1;33m\u001b[0m\u001b[0m\n",
      "\u001b[1;32m<ipython-input-32-b17aedb98ac0>\u001b[0m in \u001b[0;36msweep_sim\u001b[1;34m(init, state, system, update_func, sweep_y, sweep_v)\u001b[0m\n\u001b[0;32m     14\u001b[0m             \u001b[0mprint\u001b[0m\u001b[1;33m(\u001b[0m\u001b[1;34m'vstart'\u001b[0m\u001b[1;33m)\u001b[0m\u001b[1;33m\u001b[0m\u001b[0m\n\u001b[0;32m     15\u001b[0m             \u001b[0mprint\u001b[0m\u001b[1;33m(\u001b[0m\u001b[0mvstart\u001b[0m\u001b[1;33m)\u001b[0m\u001b[1;33m\u001b[0m\u001b[0m\n\u001b[1;32m---> 16\u001b[1;33m             \u001b[0mresults\u001b[0m\u001b[1;33m,\u001b[0m \u001b[0mscore\u001b[0m \u001b[1;33m=\u001b[0m \u001b[0mrun_sim\u001b[0m\u001b[1;33m(\u001b[0m\u001b[0msystem\u001b[0m\u001b[1;33m,\u001b[0m \u001b[0mupdate_func\u001b[0m\u001b[1;33m)\u001b[0m\u001b[1;33m\u001b[0m\u001b[0m\n\u001b[0m\u001b[0;32m     17\u001b[0m             \u001b[0mplt\u001b[0m\u001b[1;33m.\u001b[0m\u001b[0mfigure\u001b[0m\u001b[1;33m(\u001b[0m\u001b[1;36m10\u001b[0m\u001b[1;33m*\u001b[0m\u001b[0mvstart\u001b[0m\u001b[1;33m+\u001b[0m\u001b[0mystart\u001b[0m\u001b[1;33m)\u001b[0m\u001b[1;33m\u001b[0m\u001b[0m\n\u001b[0;32m     18\u001b[0m             \u001b[0mplot\u001b[0m\u001b[1;33m(\u001b[0m\u001b[0mresults\u001b[0m\u001b[1;33m.\u001b[0m\u001b[0mcx\u001b[0m\u001b[1;33m,\u001b[0m \u001b[0mresults\u001b[0m\u001b[1;33m.\u001b[0m\u001b[0mcy\u001b[0m\u001b[1;33m)\u001b[0m\u001b[1;33m\u001b[0m\u001b[0m\n",
      "\u001b[1;32m<ipython-input-31-f2649e4d98fa>\u001b[0m in \u001b[0;36mrun_sim\u001b[1;34m(system, update_func)\u001b[0m\n\u001b[0;32m      8\u001b[0m \u001b[1;33m\u001b[0m\u001b[0m\n\u001b[0;32m      9\u001b[0m     \u001b[1;32mfor\u001b[0m \u001b[0mt\u001b[0m \u001b[1;32min\u001b[0m \u001b[0mts\u001b[0m\u001b[1;33m:\u001b[0m\u001b[1;33m\u001b[0m\u001b[0m\n\u001b[1;32m---> 10\u001b[1;33m         \u001b[0mframe\u001b[0m\u001b[1;33m.\u001b[0m\u001b[0mrow\u001b[0m\u001b[1;33m[\u001b[0m\u001b[0mt\u001b[0m\u001b[1;33m+\u001b[0m\u001b[0mdt\u001b[0m\u001b[1;33m]\u001b[0m \u001b[1;33m=\u001b[0m \u001b[0mupdate_func\u001b[0m\u001b[1;33m(\u001b[0m\u001b[0mframe\u001b[0m\u001b[1;33m.\u001b[0m\u001b[0mrow\u001b[0m\u001b[1;33m[\u001b[0m\u001b[0mt\u001b[0m\u001b[1;33m]\u001b[0m\u001b[1;33m,\u001b[0m \u001b[0mt\u001b[0m\u001b[1;33m,\u001b[0m \u001b[0msystem\u001b[0m\u001b[1;33m)\u001b[0m\u001b[1;33m\u001b[0m\u001b[0m\n\u001b[0m\u001b[0;32m     11\u001b[0m \u001b[1;33m\u001b[0m\u001b[0m\n\u001b[0;32m     12\u001b[0m     \u001b[1;32mreturn\u001b[0m \u001b[0mframe\u001b[0m\u001b[1;33m,\u001b[0m \u001b[0mscore\u001b[0m\u001b[1;33m\u001b[0m\u001b[0m\n",
      "\u001b[1;32m~\\ModSimPy\\code\\PoolBreak\\modsim.py\u001b[0m in \u001b[0;36m__setitem__\u001b[1;34m(self, key, value)\u001b[0m\n\u001b[0;32m   1088\u001b[0m         \"\"\"Setting just passes the request to the wrapped object.\n\u001b[0;32m   1089\u001b[0m         \"\"\"\n\u001b[1;32m-> 1090\u001b[1;33m         \u001b[0mself\u001b[0m\u001b[1;33m.\u001b[0m\u001b[0mli\u001b[0m\u001b[1;33m[\u001b[0m\u001b[0mkey\u001b[0m\u001b[1;33m]\u001b[0m \u001b[1;33m=\u001b[0m \u001b[0mvalue\u001b[0m\u001b[1;33m\u001b[0m\u001b[0m\n\u001b[0m\u001b[0;32m   1091\u001b[0m \u001b[1;33m\u001b[0m\u001b[0m\n\u001b[0;32m   1092\u001b[0m \u001b[1;33m\u001b[0m\u001b[0m\n",
      "\u001b[1;32mC:\\Miniconda3\\lib\\site-packages\\pandas\\core\\indexing.py\u001b[0m in \u001b[0;36m__setitem__\u001b[1;34m(self, key, value)\u001b[0m\n\u001b[0;32m    187\u001b[0m             \u001b[0mkey\u001b[0m \u001b[1;33m=\u001b[0m \u001b[0mcom\u001b[0m\u001b[1;33m.\u001b[0m\u001b[0m_apply_if_callable\u001b[0m\u001b[1;33m(\u001b[0m\u001b[0mkey\u001b[0m\u001b[1;33m,\u001b[0m \u001b[0mself\u001b[0m\u001b[1;33m.\u001b[0m\u001b[0mobj\u001b[0m\u001b[1;33m)\u001b[0m\u001b[1;33m\u001b[0m\u001b[0m\n\u001b[0;32m    188\u001b[0m         \u001b[0mindexer\u001b[0m \u001b[1;33m=\u001b[0m \u001b[0mself\u001b[0m\u001b[1;33m.\u001b[0m\u001b[0m_get_setitem_indexer\u001b[0m\u001b[1;33m(\u001b[0m\u001b[0mkey\u001b[0m\u001b[1;33m)\u001b[0m\u001b[1;33m\u001b[0m\u001b[0m\n\u001b[1;32m--> 189\u001b[1;33m         \u001b[0mself\u001b[0m\u001b[1;33m.\u001b[0m\u001b[0m_setitem_with_indexer\u001b[0m\u001b[1;33m(\u001b[0m\u001b[0mindexer\u001b[0m\u001b[1;33m,\u001b[0m \u001b[0mvalue\u001b[0m\u001b[1;33m)\u001b[0m\u001b[1;33m\u001b[0m\u001b[0m\n\u001b[0m\u001b[0;32m    190\u001b[0m \u001b[1;33m\u001b[0m\u001b[0m\n\u001b[0;32m    191\u001b[0m     \u001b[1;32mdef\u001b[0m \u001b[0m_validate_key\u001b[0m\u001b[1;33m(\u001b[0m\u001b[0mself\u001b[0m\u001b[1;33m,\u001b[0m \u001b[0mkey\u001b[0m\u001b[1;33m,\u001b[0m \u001b[0maxis\u001b[0m\u001b[1;33m)\u001b[0m\u001b[1;33m:\u001b[0m\u001b[1;33m\u001b[0m\u001b[0m\n",
      "\u001b[1;32mC:\\Miniconda3\\lib\\site-packages\\pandas\\core\\indexing.py\u001b[0m in \u001b[0;36m_setitem_with_indexer\u001b[1;34m(self, indexer, value)\u001b[0m\n\u001b[0;32m    449\u001b[0m                                        name=indexer)\n\u001b[0;32m    450\u001b[0m \u001b[1;33m\u001b[0m\u001b[0m\n\u001b[1;32m--> 451\u001b[1;33m                     \u001b[0mself\u001b[0m\u001b[1;33m.\u001b[0m\u001b[0mobj\u001b[0m\u001b[1;33m.\u001b[0m\u001b[0m_data\u001b[0m \u001b[1;33m=\u001b[0m \u001b[0mself\u001b[0m\u001b[1;33m.\u001b[0m\u001b[0mobj\u001b[0m\u001b[1;33m.\u001b[0m\u001b[0mappend\u001b[0m\u001b[1;33m(\u001b[0m\u001b[0mvalue\u001b[0m\u001b[1;33m)\u001b[0m\u001b[1;33m.\u001b[0m\u001b[0m_data\u001b[0m\u001b[1;33m\u001b[0m\u001b[0m\n\u001b[0m\u001b[0;32m    452\u001b[0m                     \u001b[0mself\u001b[0m\u001b[1;33m.\u001b[0m\u001b[0mobj\u001b[0m\u001b[1;33m.\u001b[0m\u001b[0m_maybe_update_cacher\u001b[0m\u001b[1;33m(\u001b[0m\u001b[0mclear\u001b[0m\u001b[1;33m=\u001b[0m\u001b[1;32mTrue\u001b[0m\u001b[1;33m)\u001b[0m\u001b[1;33m\u001b[0m\u001b[0m\n\u001b[0;32m    453\u001b[0m                     \u001b[1;32mreturn\u001b[0m \u001b[0mself\u001b[0m\u001b[1;33m.\u001b[0m\u001b[0mobj\u001b[0m\u001b[1;33m\u001b[0m\u001b[0m\n",
      "\u001b[1;32mC:\\Miniconda3\\lib\\site-packages\\pandas\\core\\frame.py\u001b[0m in \u001b[0;36mappend\u001b[1;34m(self, other, ignore_index, verify_integrity, sort)\u001b[0m\n\u001b[0;32m   6209\u001b[0m         return concat(to_concat, ignore_index=ignore_index,\n\u001b[0;32m   6210\u001b[0m                       \u001b[0mverify_integrity\u001b[0m\u001b[1;33m=\u001b[0m\u001b[0mverify_integrity\u001b[0m\u001b[1;33m,\u001b[0m\u001b[1;33m\u001b[0m\u001b[0m\n\u001b[1;32m-> 6211\u001b[1;33m                       sort=sort)\n\u001b[0m\u001b[0;32m   6212\u001b[0m \u001b[1;33m\u001b[0m\u001b[0m\n\u001b[0;32m   6213\u001b[0m     def join(self, other, on=None, how='left', lsuffix='', rsuffix='',\n",
      "\u001b[1;32mC:\\Miniconda3\\lib\\site-packages\\pandas\\core\\reshape\\concat.py\u001b[0m in \u001b[0;36mconcat\u001b[1;34m(objs, axis, join, join_axes, ignore_index, keys, levels, names, verify_integrity, sort, copy)\u001b[0m\n\u001b[0;32m    224\u001b[0m                        \u001b[0mverify_integrity\u001b[0m\u001b[1;33m=\u001b[0m\u001b[0mverify_integrity\u001b[0m\u001b[1;33m,\u001b[0m\u001b[1;33m\u001b[0m\u001b[0m\n\u001b[0;32m    225\u001b[0m                        copy=copy, sort=sort)\n\u001b[1;32m--> 226\u001b[1;33m     \u001b[1;32mreturn\u001b[0m \u001b[0mop\u001b[0m\u001b[1;33m.\u001b[0m\u001b[0mget_result\u001b[0m\u001b[1;33m(\u001b[0m\u001b[1;33m)\u001b[0m\u001b[1;33m\u001b[0m\u001b[0m\n\u001b[0m\u001b[0;32m    227\u001b[0m \u001b[1;33m\u001b[0m\u001b[0m\n\u001b[0;32m    228\u001b[0m \u001b[1;33m\u001b[0m\u001b[0m\n",
      "\u001b[1;32mC:\\Miniconda3\\lib\\site-packages\\pandas\\core\\reshape\\concat.py\u001b[0m in \u001b[0;36mget_result\u001b[1;34m(self)\u001b[0m\n\u001b[0;32m    421\u001b[0m             new_data = concatenate_block_managers(\n\u001b[0;32m    422\u001b[0m                 \u001b[0mmgrs_indexers\u001b[0m\u001b[1;33m,\u001b[0m \u001b[0mself\u001b[0m\u001b[1;33m.\u001b[0m\u001b[0mnew_axes\u001b[0m\u001b[1;33m,\u001b[0m \u001b[0mconcat_axis\u001b[0m\u001b[1;33m=\u001b[0m\u001b[0mself\u001b[0m\u001b[1;33m.\u001b[0m\u001b[0maxis\u001b[0m\u001b[1;33m,\u001b[0m\u001b[1;33m\u001b[0m\u001b[0m\n\u001b[1;32m--> 423\u001b[1;33m                 copy=self.copy)\n\u001b[0m\u001b[0;32m    424\u001b[0m             \u001b[1;32mif\u001b[0m \u001b[1;32mnot\u001b[0m \u001b[0mself\u001b[0m\u001b[1;33m.\u001b[0m\u001b[0mcopy\u001b[0m\u001b[1;33m:\u001b[0m\u001b[1;33m\u001b[0m\u001b[0m\n\u001b[0;32m    425\u001b[0m                 \u001b[0mnew_data\u001b[0m\u001b[1;33m.\u001b[0m\u001b[0m_consolidate_inplace\u001b[0m\u001b[1;33m(\u001b[0m\u001b[1;33m)\u001b[0m\u001b[1;33m\u001b[0m\u001b[0m\n",
      "\u001b[1;32mC:\\Miniconda3\\lib\\site-packages\\pandas\\core\\internals.py\u001b[0m in \u001b[0;36mconcatenate_block_managers\u001b[1;34m(mgrs_indexers, axes, concat_axis, copy)\u001b[0m\n\u001b[0;32m   5416\u001b[0m         \u001b[1;32melif\u001b[0m \u001b[0mis_uniform_join_units\u001b[0m\u001b[1;33m(\u001b[0m\u001b[0mjoin_units\u001b[0m\u001b[1;33m)\u001b[0m\u001b[1;33m:\u001b[0m\u001b[1;33m\u001b[0m\u001b[0m\n\u001b[0;32m   5417\u001b[0m             b = join_units[0].block.concat_same_type(\n\u001b[1;32m-> 5418\u001b[1;33m                 [ju.block for ju in join_units], placement=placement)\n\u001b[0m\u001b[0;32m   5419\u001b[0m         \u001b[1;32melse\u001b[0m\u001b[1;33m:\u001b[0m\u001b[1;33m\u001b[0m\u001b[0m\n\u001b[0;32m   5420\u001b[0m             b = make_block(\n",
      "\u001b[1;32mC:\\Miniconda3\\lib\\site-packages\\pandas\\core\\internals.py\u001b[0m in \u001b[0;36mconcat_same_type\u001b[1;34m(self, to_concat, placement)\u001b[0m\n\u001b[0;32m    366\u001b[0m         \"\"\"\n\u001b[0;32m    367\u001b[0m         values = self._concatenator([blk.values for blk in to_concat],\n\u001b[1;32m--> 368\u001b[1;33m                                     axis=self.ndim - 1)\n\u001b[0m\u001b[0;32m    369\u001b[0m         return self.make_block_same_class(\n\u001b[0;32m    370\u001b[0m             values, placement=placement or slice(0, len(values), 1))\n",
      "\u001b[1;31mKeyboardInterrupt\u001b[0m: "
     ]
    },
    {
     "data": {
      "image/png": "[encoded data removed]",
      "text/plain": [
       "<Figure size 432x288 with 1 Axes>"
      ]
     },
     "metadata": {},
     "output_type": "display_data"
    }
   ],
   "source": [
    "sweep_y = linspace(-.4,.4,3, endpoint=True)\n",
    "sweep_v = linspace(1,20,3, endpoint=True)\n",
    "\n",
    "print(sweep_y)\n",
    "print(sweep_v)\n",
    "\n",
    "results = sweep_sim(init,state,system,update_func,sweep_y,sweep_v)\n",
    "\n",
    "print(results)\n"
   ]
  },
  {
   "cell_type": "markdown",
   "metadata": {},
   "source": [
    "## RESULTS"
   ]
  },
  {
   "cell_type": "markdown",
   "metadata": {},
   "source": [
    "s"
   ]
  },
  {
   "cell_type": "markdown",
   "metadata": {},
   "source": [
    "## INTERPRETATION"
   ]
  },
  {
   "cell_type": "markdown",
   "metadata": {},
   "source": [
    "Because we sweeped discrete values, we can only assume that the best speed and y-coordinate is AROUND ________________ \n",
    "\n",
    "Because we assumed all the balls to be discs, we didn't include rotational motion at all, which means we disregarded torque, cue tip-cue ball interactions, where the cue hits the on the cue ball surface, etc. In addition, because we assumed all the collisions to be completely elastic, we didn't account for energy lost between ball-ball, ball-bumper, and ball-table collisions.\n",
    "\n",
    "Furthermore, in our model, because we used a discrete dt, there were points in time in which the balls could have intersected one another before recognizing that a collision had occurred. Our biggest annoyance was dealing with long run times due to the fact that we had so many factors and values to sweep over a fairly long time.  \n",
    "\n",
    "If we were to continue working on this model, we would make the dimensions of the pool table more accurate, have a much smaller time step, make the collisions not completely elastic using restitution coefficients between ball-bumper, ball-ball, and ball-table interactions, and sweep through more speeds and y-coordinates for fine tuning. Other variables we would sweep would include x-coordinates and angle. \n",
    "\n",
    "We also calculated a distance error, which was the percentage error between the actual collision distance and the distance they should be at. This was used when trying to fine tune dt values. In this model, the largest distance error was ___________.  \n"
   ]
  },
  {
   "cell_type": "code",
   "execution_count": null,
   "metadata": {},
   "outputs": [],
   "source": []
  }
 ],
 "metadata": {
  "kernelspec": {
   "display_name": "Python 3",
   "language": "python",
   "name": "python3"
  },
  "language_info": {
   "codemirror_mode": {
    "name": "ipython",
    "version": 3
   },
   "file_extension": ".py",
   "mimetype": "text/x-python",
   "name": "python",
   "nbconvert_exporter": "python",
   "pygments_lexer": "ipython3",
   "version": "3.6.6"
  }
 },
 "nbformat": 4,
 "nbformat_minor": 2
}
